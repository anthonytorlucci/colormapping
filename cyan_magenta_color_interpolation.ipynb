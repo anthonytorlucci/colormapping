{
 "cells": [
  {
   "cell_type": "markdown",
   "metadata": {},
   "source": [
    "# Color interpolation between cyan and magenta"
   ]
  },
  {
   "cell_type": "code",
   "execution_count": 3,
   "metadata": {},
   "outputs": [],
   "source": [
    "import matplotlib.pyplot as plt\n",
    "import matplotlib.colors\n",
    "\n",
    "import colormappy.colors as clrs\n",
    "import colormappy"
   ]
  },
  {
   "cell_type": "code",
   "execution_count": 4,
   "metadata": {},
   "outputs": [
    {
     "name": "stdout",
     "output_type": "stream",
     "text": [
      "cyan rgb tuple: (0.0, 1.0, 1.0)\n"
     ]
    }
   ],
   "source": [
    "cyan = clrs.rgb1_Cyan\n",
    "print(f'cyan rgb tuple: {cyan}')"
   ]
  },
  {
   "cell_type": "code",
   "execution_count": 5,
   "metadata": {},
   "outputs": [
    {
     "name": "stdout",
     "output_type": "stream",
     "text": [
      "magenta rgb tuple: (1.0, 0.0, 1.0)\n"
     ]
    }
   ],
   "source": [
    "magenta = clrs.rgb1_Magenta\n",
    "print(f'magenta rgb tuple: {magenta}')"
   ]
  },
  {
   "cell_type": "code",
   "execution_count": null,
   "metadata": {},
   "outputs": [],
   "source": [
    "help colormappy.ColorPointIndex"
   ]
  },
  {
   "cell_type": "code",
   "execution_count": 6,
   "metadata": {},
   "outputs": [
    {
     "name": "stdout",
     "output_type": "stream",
     "text": [
      "0, 0.0, 1.0, 1.0\n"
     ]
    }
   ],
   "source": [
    "p000 = colormappy.ColorPointIndex(idx=0, c0=cyan[0], c1=cyan[1], c2=cyan[2], cspace=\"sRGB1\")\n",
    "print(p000)"
   ]
  },
  {
   "cell_type": "code",
   "execution_count": null,
   "metadata": {},
   "outputs": [],
   "source": [
    "p255 = colormappy.ColorPointIndex(idx=255, c0=magenta[0], c1=magenta[1], c2=magenta[2], cspace=\"sRGB1\")"
   ]
  },
  {
   "cell_type": "code",
   "execution_count": null,
   "metadata": {},
   "outputs": [],
   "source": [
    "# spaces = [\"XYZ1\", \"xyY1\", \"CAM02-UCS\", \"CIELab\", \"CIELCh\", \n",
    "#     \"JCh\", \"JMh\", \"Jsh\", \"JCH\", \"JMH\", \"JsH\", \"QCh\", \"QMh\", \n",
    "#     \"Qsh\", \"QCH\", \"QMH\", \"QsH\"]\n",
    "\n",
    "# nspaces = len(spaces)\n",
    "\n",
    "# fig, ax = plt.subplots(nspaces, sharex=True, figsize=(10,17))\n",
    "\n",
    "# for n in range(nspaces):\n",
    "#     space = spaces[n]\n",
    "#     mappy = colormappy.create_colormap(points=[p0, p255], interp_cspace=space)\n",
    "#     cmap = matplotlib.colors.ListedColormap(mappy)\n",
    "#     cb1 = matplotlib.colorbar.ColorbarBase(ax[n], cmap=cmap, orientation='horizontal')\n",
    "#     cb1.set_label(space)\n",
    "\n",
    "# fig.tight_layout()\n",
    "# fig.show()"
   ]
  }
 ],
 "metadata": {
  "kernelspec": {
   "display_name": "colormapping310",
   "language": "python",
   "name": "python3"
  },
  "language_info": {
   "codemirror_mode": {
    "name": "ipython",
    "version": 3
   },
   "file_extension": ".py",
   "mimetype": "text/x-python",
   "name": "python",
   "nbconvert_exporter": "python",
   "pygments_lexer": "ipython3",
   "version": "3.10.8"
  },
  "orig_nbformat": 4,
  "vscode": {
   "interpreter": {
    "hash": "8776d78699c1612770511a2989f9a780b7ad2a5ee5f497183caaac2b8054abb1"
   }
  }
 },
 "nbformat": 4,
 "nbformat_minor": 2
}
